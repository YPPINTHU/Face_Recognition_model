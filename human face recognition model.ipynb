{
 "cells": [
  {
   "cell_type": "code",
   "execution_count": 1,
   "id": "7df74f77",
   "metadata": {},
   "outputs": [],
   "source": [
    "#import required libraries\n",
    "import cv2\n",
    "import face_recognition as fr\n",
    "import numpy as np"
   ]
  },
  {
   "cell_type": "code",
   "execution_count": 2,
   "id": "ba31b14f",
   "metadata": {},
   "outputs": [],
   "source": [
    "video_capture = cv2.VideoCapture(0)  #capturevideo from wepcam\n"
   ]
  },
  {
   "cell_type": "code",
   "execution_count": 3,
   "id": "844c0460",
   "metadata": {},
   "outputs": [],
   "source": [
    "#face file loading \n",
    "faces = [fr.load_image_file(\"pinthu.jpg\"), fr.load_image_file(\"stevejobs.jpg\"),fr.load_image_file(\"elonmusk.webp\"), fr.load_image_file(\"billgates.jpg\")]\n",
    "\n",
    "#extract facial known encoding\n",
    "known_face_encodings = [fr.face_encodings(faces[0])[0],fr.face_encodings(faces[1])[0],fr.face_encodings(faces[2])[0],fr.face_encodings(faces[3])[0],]\n",
    "\n",
    "#label to images\n",
    "known_face_names = [\"Pinthushan\", \"Steve Jobs\", \"Elon Musk\", \"Bill Gates\"]"
   ]
  },
  {
   "cell_type": "code",
   "execution_count": null,
   "id": "ca91fe46",
   "metadata": {},
   "outputs": [],
   "source": [
    "process_this_frame = True\n",
    "\n",
    "\n",
    "#Analysing webcam video continuously\n",
    "while True:\n",
    "    ret, frame = video_capture.read(0)   #capture frame from webcam\n",
    "    \n",
    "    if process_this_frame:\n",
    "        small_frame = cv2.resize(frame,(0,0), fx = 0.25 , fy = 0.25) # resize image frame size\n",
    "        rgb_frame = np.ascontiguousarray(small_frame[:, :, ::-1]) # convert BGR to RGB\n",
    "        face_locations = fr.face_locations(rgb_frame) # detect face location from RGB frame\n",
    "        face_encodings = fr.face_encodings(rgb_frame,face_locations) # calculate Encodings\n",
    "        \n",
    "        face_names=[]\n",
    "\n",
    "        for face_encoding in face_encodings:\n",
    "            name = \"Unknown\"\n",
    "            matches = fr.compare_faces(known_face_encodings,face_encoding) \n",
    "            face_distances = fr.face_distance(known_face_encodings, face_encoding)\n",
    "            best_match_index = np.argmin(face_distances) # find closest matching face \n",
    "            \n",
    "            if matches[best_match_index]:\n",
    "                name = known_face_names[best_match_index]         # override matches name\n",
    "\n",
    "            face_names.append(name)\n",
    "                \n",
    "    process_this_frame = not process_this_frame\n",
    "    \n",
    "    # show rectangle frame and persions name\n",
    "    for (top, right, bottom, left),name in zip(face_locations, face_names):\n",
    "        # multiply box cordination\n",
    "        top *= 4\n",
    "        right *= 4\n",
    "        bottom *= 4\n",
    "        left *= 4\n",
    "        \n",
    "        # known face rectangle and label decorations\n",
    "        if name != \"Unknown\":\n",
    "            cv2.rectangle(frame, (left,top), (right, bottom), (0,255,0),2)\n",
    "        \n",
    "            cv2.rectangle(frame,(left, bottom -35), (right,bottom), (0,255, 0), cv2.FILLED)\n",
    "        \n",
    "        # unknown face rectangle and label decorations\n",
    "        else:\n",
    "            cv2.rectangle(frame, (left,top), (right, bottom), (0,0,255),2)\n",
    "        \n",
    "            cv2.rectangle(frame,(left, bottom -35), (right,bottom), (0,0, 255), cv2.FILLED)\n",
    "        \n",
    "        cv2.putText(frame, name,(left + 6,bottom - 6),cv2.FONT_HERSHEY_DUPLEX , 1.0 , (255, 255, 255), 1)\n",
    "            \n",
    "        \n",
    "    cv2.imshow(\"Face Recognition\", frame)  #display frame\n",
    "    \n",
    "    if cv2.waitKey(1) & 0xFF == ('q'):\n",
    "        break\n",
    "        \n",
    "video_capture.release()\n",
    "cv2.destroyAllWindows()\n",
    "        \n",
    "        "
   ]
  },
  {
   "cell_type": "code",
   "execution_count": null,
   "id": "73f1965b",
   "metadata": {},
   "outputs": [],
   "source": []
  },
  {
   "cell_type": "code",
   "execution_count": null,
   "id": "e9c47f3f",
   "metadata": {},
   "outputs": [],
   "source": []
  }
 ],
 "metadata": {
  "kernelspec": {
   "display_name": "Python 3 (ipykernel)",
   "language": "python",
   "name": "python3"
  },
  "language_info": {
   "codemirror_mode": {
    "name": "ipython",
    "version": 3
   },
   "file_extension": ".py",
   "mimetype": "text/x-python",
   "name": "python",
   "nbconvert_exporter": "python",
   "pygments_lexer": "ipython3",
   "version": "3.11.5"
  }
 },
 "nbformat": 4,
 "nbformat_minor": 5
}
